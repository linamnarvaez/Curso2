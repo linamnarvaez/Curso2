{
  "nbformat": 4,
  "nbformat_minor": 0,
  "metadata": {
    "colab": {
      "provenance": [],
      "collapsed_sections": [],
      "authorship_tag": "ABX9TyPjuXMCp0iDW44eqB1EDpLJ",
      "include_colab_link": true
    },
    "kernelspec": {
      "name": "python3",
      "display_name": "Python 3"
    },
    "language_info": {
      "name": "python"
    }
  },
  "cells": [
    {
      "cell_type": "markdown",
      "metadata": {
        "id": "view-in-github",
        "colab_type": "text"
      },
      "source": [
        "<a href=\"https://colab.research.google.com/github/linamnarvaez/Curso2/blob/master/LinaNarvaez_C2_Tareas.ipynb\" target=\"_parent\"><img src=\"https://colab.research.google.com/assets/colab-badge.svg\" alt=\"Open In Colab\"/></a>"
      ]
    },
    {
      "cell_type": "markdown",
      "source": [
        "**Notebook S1**\n",
        "\n",
        "\n"
      ],
      "metadata": {
        "id": "WNe_PeDguOUl"
      }
    },
    {
      "cell_type": "markdown",
      "source": [
        "Problema 1: Manipulación de Tensores"
      ],
      "metadata": {
        "id": "MkvN0e2EuQf2"
      }
    },
    {
      "cell_type": "code",
      "source": [
        "#Dentro del conjunto de datos, seleccióne la esquina inferior que contenga  14×14  píxeles en cada una de las imágenes y visualice una de ellas\n",
        "from keras.datasets import mnist\n",
        "(train_images, train_labels), (test_images, test_labels) = mnist.load_data()\n"
      ],
      "metadata": {
        "id": "QF0m-s79uu--"
      },
      "execution_count": 7,
      "outputs": []
    },
    {
      "cell_type": "code",
      "source": [
        "my_slice_corner = train_images[:, 14:, 14:]\n",
        "my_slice_corner.shape"
      ],
      "metadata": {
        "colab": {
          "base_uri": "https://localhost:8080/"
        },
        "id": "XoZCCp4Uv0Pk",
        "outputId": "f0b2f0fc-933a-47f1-b4c7-efba38614277"
      },
      "execution_count": 5,
      "outputs": [
        {
          "output_type": "execute_result",
          "data": {
            "text/plain": [
              "(60000, 14, 14)"
            ]
          },
          "metadata": {},
          "execution_count": 5
        }
      ]
    },
    {
      "cell_type": "code",
      "source": [
        "digit = my_slice_corner[3]\n",
        "import matplotlib.pyplot as plt\n",
        "plt.imshow(digit, cmap=plt.cm.binary)\n",
        "plt.show()"
      ],
      "metadata": {
        "colab": {
          "base_uri": "https://localhost:8080/",
          "height": 265
        },
        "id": "yCLilYrbwidJ",
        "outputId": "f848c89d-ff6c-453c-a30d-ae214ae613df"
      },
      "execution_count": 6,
      "outputs": [
        {
          "output_type": "display_data",
          "data": {
            "text/plain": [
              "<Figure size 432x288 with 1 Axes>"
            ],
            "image/png": "[encoded data removed]"
          },
          "metadata": {
            "needs_background": "light"
          }
        }
      ]
    },
    {
      "cell_type": "markdown",
      "source": [
        "Problema 2: Repaso de Funciones y clases\n"
      ],
      "metadata": {
        "id": "Ntg0G-nTxaU9"
      }
    },
    {
      "cell_type": "code",
      "source": [
        "#Escriba un código en Python que devuelva el máximo valor de un vector\n",
        "def max_array1D(arr): \n",
        "     \n",
        "    max = arr[0] \n",
        "     \n",
        "    for i in range(1, arr.shape[0]): \n",
        "        if arr[i] > max: \n",
        "            max = arr[i] \n",
        "    return max\n",
        "\n"
      ],
      "metadata": {
        "id": "hLt8dtC4xdZC"
      },
      "execution_count": 45,
      "outputs": []
    },
    {
      "cell_type": "code",
      "source": [],
      "metadata": {
        "id": "oRz65Tz7zN9a"
      },
      "execution_count": null,
      "outputs": []
    },
    {
      "cell_type": "markdown",
      "source": [
        "Problema 3: Clases \n"
      ],
      "metadata": {
        "id": "tZpzmsOY4D7-"
      }
    },
    {
      "cell_type": "code",
      "source": [
        "#Creen una clase Point en coordenadas cartesianas, que se su constructor inicialice el objeto a un punto con unas coordenadas dadas. Además, la clase debe contener dos métodos:\n",
        "\n",
        "#translate(), que reciba como argumentos dos valores arbitrarios  (x,y) .\n",
        "#__str__(self): que imprima el punto en precisión de coma flotante.\n"
      ],
      "metadata": {
        "id": "v1W1BBca4JqH"
      },
      "execution_count": null,
      "outputs": []
    },
    {
      "cell_type": "code",
      "source": [
        " class Point:\n",
        "    \n",
        "    \n",
        "    def __init__(self, x, y):\n",
        "      \n",
        "        self.x = x\n",
        "        self.y = y\n",
        "        \n",
        "    def translate(self, dx, dy):\n",
        "        \n",
        "        self.x += dx\n",
        "        self.y += dy\n",
        "        \n",
        "    def __str__(self):\n",
        "        return(\"Point at [%f, %f]\" % (self.x, self.y))"
      ],
      "metadata": {
        "id": "gBzDzm1z4b8w"
      },
      "execution_count": 46,
      "outputs": []
    },
    {
      "cell_type": "markdown",
      "source": [
        "Problema 4: Perceptrón Multicapa\n",
        "\n",
        "Con los siguientes vector, escalar y los datos de entrada de la compuerta lógica AND, escribir una función que regrese las salidas correctas, usando un perceptrón.\n",
        "\n",
        "W=(11) \n",
        "\n",
        "B=−1.5\n"
      ],
      "metadata": {
        "id": "6GpklaeX-Qh2"
      }
    },
    {
      "cell_type": "code",
      "source": [
        "def And(X,W,B):\n",
        "  X1=np.heaviside(np.dot(X,W)+B,1)\n",
        "  return(X1)\n",
        "  \n",
        "X=np.array([[0,0],[0,1],[1,0],[1,1]])\n",
        "W=np.array([1,1])\n",
        "B=-1.5\n",
        "y=And(X,W,B)\n",
        "print(y)"
      ],
      "metadata": {
        "colab": {
          "base_uri": "https://localhost:8080/"
        },
        "id": "JNHQUnL7-VIj",
        "outputId": "6833fdf0-62ae-4d8d-f2a0-0816492749b0"
      },
      "execution_count": 48,
      "outputs": [
        {
          "output_type": "stream",
          "name": "stdout",
          "text": [
            "[0. 0. 0. 1.]\n"
          ]
        }
      ]
    }
  ]
}